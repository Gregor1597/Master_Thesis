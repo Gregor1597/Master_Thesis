{
 "cells": [
  {
   "cell_type": "markdown",
   "metadata": {},
   "source": [
    "# Questionaires Descriptive Analysis"
   ]
  },
  {
   "cell_type": "code",
   "execution_count": 1,
   "metadata": {},
   "outputs": [],
   "source": [
    "import pandas as pd\n",
    "import seaborn as sns\n",
    "import matplotlib.pyplot as plt\n",
    "import numpy as np\n",
    "import csv\n",
    "from collections import defaultdict\n",
    "from IPython.display import display\n",
    "from scipy import stats\n"
   ]
  },
  {
   "cell_type": "code",
   "execution_count": 2,
   "metadata": {},
   "outputs": [],
   "source": [
    "conditions =[\"NoAvatar\", \"Normal\", \"Small\", \"Large\"]\n",
    "questions = {\n",
    "        \n",
    "         1: \"It felt like the virtual body was my body.\" ,\n",
    "         2: \"It felt like the virtual body parts were my body parts.\" ,\n",
    "         3: \"The virtual body felt like a human body.\" ,\n",
    "         4 :\"It felt like the virtual body belonged to me.\" ,\n",
    "        \n",
    "         5: \"The movements of the virtual body felt like they were my movements.\" ,\n",
    "         6: \"I felt like I was controlling the movements of the virtual body.\" ,\n",
    "         7: \"I felt like I was causing the movements of the virtual body.\" ,\n",
    "         8: \"The movements of the virtual body were in sync with my own movements.\" ,\n",
    "    \n",
    "         9: \"I felt like the form or appearance of my own body had changed.\" ,\n",
    "         10: \"I felt like the weight of my own body had changed.\" ,\n",
    "         11: \"I felt like the size (height) of my own body had changed.\" ,\n",
    "         12: \"I felt like the width of my own body had changed.\" ,\n",
    "\n",
    "    }\n",
    "participants = [\"13\",\"14\", \"15\", \"08\", \"09\", \"10\", \"11\", \"12\",\"16\", \"17\"]\n",
    "\n",
    "demographic_labels = [\"Gender\", \"Age\", \"Height\", \"Weight\"]\n",
    "vr_labels = [\"VR Experience\",\"VR Usage\",\"First Person Video Games\", \"Motion Sickness\"]"
   ]
  },
  {
   "cell_type": "code",
   "execution_count": 3,
   "metadata": {},
   "outputs": [],
   "source": [
    "#inverted , which is needed for some of the presence quetsionaires ( 8-, since  a likert scale of 7 was used)\n",
    "def invert(d):\n",
    "    return 8-d"
   ]
  },
  {
   "cell_type": "markdown",
   "metadata": {},
   "source": [
    "## Read data of all presence and embodiment questionaires"
   ]
  },
  {
   "cell_type": "code",
   "execution_count": 4,
   "metadata": {},
   "outputs": [],
   "source": [
    "embodi_data = {}\n",
    "for c in conditions:\n",
    "    temp = []    \n",
    "    for p in participants:\n",
    "             d = pd.read_csv(\"C:/Users/LauflaborVR2/GS-MT_Test/data/\" + p + c + \".csv\", names= [\"Question\", \"Value\"])\n",
    "             temp.append(d)\n",
    "    embodi_data[c] = temp"
   ]
  },
  {
   "cell_type": "code",
   "execution_count": 5,
   "metadata": {},
   "outputs": [],
   "source": [
    "soci_data = pd.read_csv(\"C:/Users/LauflaborVR2/GS-MT_Test/Data/main_presence_questionaire.csv\")"
   ]
  },
  {
   "cell_type": "code",
   "execution_count": 6,
   "metadata": {},
   "outputs": [],
   "source": [
    "# export height and weight data\n",
    "heights = soci_data[\"Height\"]\n",
    "weights = soci_data[\"Weight\"]\n",
    "weights.to_csv(\"weights.csv\", index= False)\n",
    "heights.to_csv(\"heights.csv\", index= False)"
   ]
  },
  {
   "cell_type": "markdown",
   "metadata": {},
   "source": [
    "### Embodiment Analysis"
   ]
  },
  {
   "cell_type": "code",
   "execution_count": 7,
   "metadata": {},
   "outputs": [],
   "source": [
    "#sort the data regarding their factors and conditions\n",
    "small = defaultdict(list)\n",
    "large =defaultdict(list)\n",
    "normal = defaultdict(list)\n",
    "noAvatar = defaultdict(list)\n",
    "for p in range(len(participants)):\n",
    "        small[\"Ownership\"].append(embodi_data[\"Small\"][p].loc[embodi_data[\"Small\"][p][\"Question\"]<5][\"Value\"].sum(axis=0)/4)\n",
    "        small[\"Agency\"].append(embodi_data[\"Small\"][p].loc[(embodi_data[\"Small\"][p][\"Question\"] > 4) & (embodi_data[\"Small\"][p][\"Question\"]<9) ][\"Value\"].sum(axis=0)/4)\n",
    "        small[\"Change\"].append(embodi_data[\"Small\"][p].loc[embodi_data[\"Small\"][p][\"Question\"]>8][\"Value\"].sum(axis=0)/4)\n",
    "        large[\"Ownership\"].append(embodi_data[\"Large\"][p].loc[embodi_data[\"Large\"][p][\"Question\"]<5][\"Value\"].sum(axis=0)/4)\n",
    "        large[\"Agency\"].append(embodi_data[\"Large\"][p].loc[(embodi_data[\"Large\"][p][\"Question\"] > 4) & (embodi_data[\"Large\"][p][\"Question\"]<9) ][\"Value\"].sum(axis=0)/4)\n",
    "        large[\"Change\"].append(embodi_data[\"Large\"][p].loc[embodi_data[\"Large\"][p][\"Question\"]>8][\"Value\"].sum(axis=0)/4)\n",
    "        normal[\"Ownership\"].append(embodi_data[\"Normal\"][p].loc[embodi_data[\"Normal\"][p][\"Question\"]<5][\"Value\"].sum(axis=0)/4)\n",
    "        normal[\"Agency\"].append(embodi_data[\"Normal\"][p].loc[(embodi_data[\"Normal\"][p][\"Question\"] > 4) & (embodi_data[\"Normal\"][p][\"Question\"]<9) ][\"Value\"].sum(axis=0)/4)\n",
    "        normal[\"Change\"].append(embodi_data[\"Normal\"][p].loc[embodi_data[\"Normal\"][p][\"Question\"]>8][\"Value\"].sum(axis=0)/4)\n",
    "        noAvatar[\"Ownership\"].append(embodi_data[\"NoAvatar\"][p].loc[embodi_data[\"NoAvatar\"][p][\"Question\"]<5][\"Value\"].sum(axis=0)/4)\n",
    "        noAvatar[\"Agency\"].append(embodi_data[\"NoAvatar\"][p].loc[(embodi_data[\"NoAvatar\"][p][\"Question\"] > 4) & (embodi_data[\"NoAvatar\"][p][\"Question\"]<9) ][\"Value\"].sum(axis=0)/4)\n",
    "        noAvatar[\"Change\"].append(embodi_data[\"NoAvatar\"][p].loc[embodi_data[\"NoAvatar\"][p][\"Question\"]>8][\"Value\"].sum(axis=0)/4)\n",
    "dicts = [noAvatar, normal, small, large ]\n",
    "keys = small.keys()"
   ]
  },
  {
   "cell_type": "code",
   "execution_count": 8,
   "metadata": {},
   "outputs": [
    {
     "name": "stdout",
     "output_type": "stream",
     "text": [
      "Shapiro-Wilk-Test: p-Wert = 7.993591664626354e-07\n"
     ]
    }
   ],
   "source": [
    "x = embodi_data[\"Normal\"]\n",
    "all_values = [df[\"Value\"] for df in x]\n",
    "\n",
    "stat, p_value = stats.shapiro(all_values )\n",
    "print(\"Shapiro-Wilk-Test:\", \"p-Wert =\", p_value)\n",
    "## deutet auf nicht normalverteilt hin!"
   ]
  },
  {
   "cell_type": "code",
   "execution_count": 9,
   "metadata": {},
   "outputs": [
    {
     "data": {
      "text/plain": [
       "[[4.25, 3.5, 1.0, 2.25, 2.0, 1.0, 4.25, 3.0, 1.5, 1.0],\n",
       " [1.25, 2.75, 1.0, 4.25, 4.5, 1.0, 4.75, 5.0, 1.0, 2.5],\n",
       " [2.25, 4.25, 4.25, 3.0, 7.0, 1.0, 4.25, 4.5, 2.5, 4.5],\n",
       " [4.75, 3.0, 2.5, 5.0, 5.75, 1.0, 4.75, 5.75, 2.0, 5.0]]"
      ]
     },
     "execution_count": 9,
     "metadata": {},
     "output_type": "execute_result"
    }
   ],
   "source": [
    "values_list = []\n",
    "\n",
    "for condition in embodi_data.values():\n",
    "    # Extrahiere die 'Value'-Spalte jedes DataFrames in der Liste\n",
    "    condition_values = [df.loc[df[\"Question\"]>8]['Value'].mean() for df in condition]  # Annahme: Es gibt nur eine Zeile je DataFrame\n",
    "    values_list.append(condition_values)\n",
    "values_list"
   ]
  },
  {
   "cell_type": "code",
   "execution_count": 10,
   "metadata": {},
   "outputs": [
    {
     "name": "stdout",
     "output_type": "stream",
     "text": [
      "Friedman-Test Statistik: 10.793103448275847\n",
      "p-Wert: 0.012898903044113823\n"
     ]
    }
   ],
   "source": [
    "\n",
    "\n",
    "# Friedman-Test\n",
    "stat, p = stats.friedmanchisquare(*values_list)\n",
    "print(\"Friedman-Test Statistik:\", stat)\n",
    "print(\"p-Wert:\", p)"
   ]
  },
  {
   "cell_type": "code",
   "execution_count": 11,
   "metadata": {},
   "outputs": [
    {
     "data": {
      "image/png": "[encoded data removed]",
      "text/plain": [
       "<Figure size 1000x800 with 3 Axes>"
      ]
     },
     "metadata": {},
     "output_type": "display_data"
    }
   ],
   "source": [
    "fig, axes = plt.subplots(nrows=len(keys), ncols=1, figsize=(10, 8))\n",
    "for i, key in enumerate(keys):\n",
    "    # Collect data for the current key from all defaultdicts\n",
    "    dat = [d[key] for d in dicts]\n",
    "    # Flatten the list of lists and add a label for each defaultdict\n",
    "    data_flat = [item for sublist in dat for item in sublist]\n",
    "    labels = conditions\n",
    "    \n",
    "    # Create a boxplot\n",
    "    axes[i].boxplot(dat)\n",
    "    axes[i].set_title(f'Boxplot for {key}')\n",
    "    axes[i].set_xticklabels([conditions[j] for j in range(len(dicts))])\n",
    "\n",
    "# Set overall title and show plot\n",
    "fig.suptitle('Embodiment Pilot', fontsize=16)\n",
    "plt.tight_layout(rect=[0, 0, 1, 0.95])\n",
    "plt.show()"
   ]
  },
  {
   "cell_type": "markdown",
   "metadata": {},
   "source": [
    "### Presence Analysis"
   ]
  },
  {
   "cell_type": "code",
   "execution_count": 13,
   "metadata": {},
   "outputs": [],
   "source": [
    "demo_data = soci_data[demographic_labels]\n",
    "vr_data = soci_data[vr_labels]\n",
    "ipq_data = soci_data.drop(demographic_labels + vr_labels, axis= 1)\n"
   ]
  },
  {
   "cell_type": "code",
   "execution_count": 14,
   "metadata": {},
   "outputs": [
    {
     "data": {
      "text/html": [
       "<div>\n",
       "<style scoped>\n",
       "    .dataframe tbody tr th:only-of-type {\n",
       "        vertical-align: middle;\n",
       "    }\n",
       "\n",
       "    .dataframe tbody tr th {\n",
       "        vertical-align: top;\n",
       "    }\n",
       "\n",
       "    .dataframe thead th {\n",
       "        text-align: right;\n",
       "    }\n",
       "</style>\n",
       "<table border=\"1\" class=\"dataframe\">\n",
       "  <thead>\n",
       "    <tr style=\"text-align: right;\">\n",
       "      <th></th>\n",
       "      <th>Gender</th>\n",
       "      <th>Age</th>\n",
       "      <th>Height</th>\n",
       "      <th>Weight</th>\n",
       "    </tr>\n",
       "  </thead>\n",
       "  <tbody>\n",
       "    <tr>\n",
       "      <th>mean</th>\n",
       "      <td>1.0</td>\n",
       "      <td>24.600000</td>\n",
       "      <td>182.300000</td>\n",
       "      <td>76.300000</td>\n",
       "    </tr>\n",
       "    <tr>\n",
       "      <th>std</th>\n",
       "      <td>0.0</td>\n",
       "      <td>4.376706</td>\n",
       "      <td>5.498485</td>\n",
       "      <td>12.763228</td>\n",
       "    </tr>\n",
       "  </tbody>\n",
       "</table>\n",
       "</div>"
      ],
      "text/plain": [
       "      Gender        Age      Height     Weight\n",
       "mean     1.0  24.600000  182.300000  76.300000\n",
       "std      0.0   4.376706    5.498485  12.763228"
      ]
     },
     "metadata": {},
     "output_type": "display_data"
    }
   ],
   "source": [
    "numeric_summary = demo_data.describe().loc[[\"mean\", \"std\"]]\n",
    "categorical_summary = demo_data.select_dtypes(include=['object']).apply(pd.Series.value_counts)\n",
    "display(numeric_summary)"
   ]
  },
  {
   "cell_type": "code",
   "execution_count": 51,
   "metadata": {},
   "outputs": [
    {
     "data": {
      "text/plain": [
       "mean    4.042857\n",
       "std     1.351169\n",
       "dtype: float64"
      ]
     },
     "metadata": {},
     "output_type": "display_data"
    }
   ],
   "source": [
    "ipq11 = ipq_data.drop( \"VPID\", axis=1)\n",
    "ipq11[[\"Presence 6: How real did the virtual world seem to you?\",\"Presence 7: How aware were you of the real world surrounding while navigating in the virtual world? (i.e. sounds, room temperature, other people, etc.)?\" ]]= ipq11[[\"Presence 6: How real did the virtual world seem to you?\",\"Presence 7: How aware were you of the real world surrounding while navigating in the virtual world? (i.e. sounds, room temperature, other people, etc.)?\" ]].map(invert)\n",
    "display(ipq11.describe().loc[[\"mean\", \"std\"]].mean(axis=1))\n"
   ]
  }
 ],
 "metadata": {
  "kernelspec": {
   "display_name": "Python 3",
   "language": "python",
   "name": "python3"
  },
  "language_info": {
   "codemirror_mode": {
    "name": "ipython",
    "version": 3
   },
   "file_extension": ".py",
   "mimetype": "text/x-python",
   "name": "python",
   "nbconvert_exporter": "python",
   "pygments_lexer": "ipython3",
   "version": "3.11.9"
  }
 },
 "nbformat": 4,
 "nbformat_minor": 2
}
