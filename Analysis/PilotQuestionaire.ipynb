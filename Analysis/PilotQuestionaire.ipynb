{
 "cells": [
  {
   "cell_type": "code",
   "execution_count": 1,
   "metadata": {},
   "outputs": [],
   "source": [
    "import pandas as pd\n",
    "import seaborn as sns"
   ]
  },
  {
   "cell_type": "code",
   "execution_count": 2,
   "metadata": {},
   "outputs": [],
   "source": [
    "import matplotlib.pyplot as plt\n",
    "import numpy as np\n",
    "import csv\n",
    "from collections import defaultdict\n",
    "from IPython.display import display\n",
    "from scipy import stats\n"
   ]
  },
  {
   "cell_type": "code",
   "execution_count": null,
   "metadata": {},
   "outputs": [],
   "source": [
    "participants = [\"04\",\"05\", \"06\", \"07\", \"09\", \"10\", \"11\", \"12\"]\n",
    "conditions =[\"NoAvatar\", \"Normal\", \"Small\", \"Large\"]\n",
    "questions = {\n",
    "        \n",
    "         1: \"It felt like the virtual body was my body.\" ,\n",
    "         2: \"It felt like the virtual body parts were my body parts.\" ,\n",
    "         3: \"The virtual body felt like a human body.\" ,\n",
    "         4 :\"It felt like the virtual body belonged to me.\" ,\n",
    "        \n",
    "         5: \"The movements of the virtual body felt like they were my movements.\" ,\n",
    "         6: \"I felt like I was controlling the movements of the virtual body.\" ,\n",
    "         7: \"I felt like I was causing the movements of the virtual body.\" ,\n",
    "         8: \"The movements of the virtual body were in sync with my own movements.\" ,\n",
    "    \n",
    "         9: \"I felt like the form or appearance of my own body had changed.\" ,\n",
    "         10: \"I felt like the weight of my own body had changed.\" ,\n",
    "         11: \"I felt like the size (height) of my own body had changed.\" ,\n",
    "         12: \"I felt like the width of my own body had changed.\" ,\n",
    "\n",
    "    }"
   ]
  },
  {
   "cell_type": "code",
   "execution_count": null,
   "metadata": {},
   "outputs": [],
   "source": [
    "data = {}\n",
    "for c in conditions:\n",
    "    temp = []    \n",
    "    for p in participants:\n",
    "             d = pd.read_csv(\"C:/Users/LauflaborVR2/GS-MT_Test/data/\" + p + c + \"csv\", names= [\"Question\", \"Value\"])\n",
    "             temp.append(d)\n",
    "    data[c] = temp"
   ]
  },
  {
   "cell_type": "code",
   "execution_count": null,
   "metadata": {},
   "outputs": [],
   "source": [
    "small = defaultdict(list)\n",
    "large =defaultdict(list)\n",
    "normal = defaultdict(list)\n",
    "noAvatar = defaultdict(list)\n",
    "for p in range(len(participants)):\n",
    "        small[\"Ownership\"].append(data[\"Small\"][p].loc[data[\"Small\"][p][\"Question\"]<5][\"Value\"].sum(axis=0)/4)\n",
    "        small[\"Agency\"].append(data[\"Small\"][p].loc[(data[\"Small\"][p][\"Question\"] > 4) & (data[\"Small\"][p][\"Question\"]<9) ][\"Value\"].sum(axis=0)/4)\n",
    "        small[\"Change\"].append(data[\"Small\"][p].loc[data[\"Small\"][p][\"Question\"]>8][\"Value\"].sum(axis=0)/4)\n",
    "        large[\"Ownership\"].append(data[\"Large\"][p].loc[data[\"Large\"][p][\"Question\"]<5][\"Value\"].sum(axis=0)/4)\n",
    "        large[\"Agency\"].append(data[\"Large\"][p].loc[(data[\"Large\"][p][\"Question\"] > 4) & (data[\"Large\"][p][\"Question\"]<9) ][\"Value\"].sum(axis=0)/4)\n",
    "        large[\"Change\"].append(data[\"Large\"][p].loc[data[\"Large\"][p][\"Question\"]>8][\"Value\"].sum(axis=0)/4)\n",
    "        normal[\"Ownership\"].append(data[\"Normal\"][p].loc[data[\"Normal\"][p][\"Question\"]<5][\"Value\"].sum(axis=0)/4)\n",
    "        normal[\"Agency\"].append(data[\"Normal\"][p].loc[(data[\"Normal\"][p][\"Question\"] > 4) & (data[\"Normal\"][p][\"Question\"]<9) ][\"Value\"].sum(axis=0)/4)\n",
    "        normal[\"Change\"].append(data[\"Normal\"][p].loc[data[\"Normal\"][p][\"Question\"]>8][\"Value\"].sum(axis=0)/4)\n",
    "        noAvatar[\"Ownership\"].append(data[\"NoAvatar\"][p].loc[data[\"NoAvatar\"][p][\"Question\"]<5][\"Value\"].sum(axis=0)/4)\n",
    "        noAvatar[\"Agency\"].append(data[\"NoAvatar\"][p].loc[(data[\"NoAvatar\"][p][\"Question\"] > 4) & (data[\"NoAvatar\"][p][\"Question\"]<9) ][\"Value\"].sum(axis=0)/4)\n",
    "        noAvatar[\"Change\"].append(data[\"NoAvatar\"][p].loc[data[\"NoAvatar\"][p][\"Question\"]>8][\"Value\"].sum(axis=0)/4)\n",
    "        "
   ]
  },
  {
   "cell_type": "code",
   "execution_count": null,
   "metadata": {},
   "outputs": [],
   "source": [
    "dicts = [noAvatar, normal, small, large ]\n",
    "keys = small.keys()\n"
   ]
  },
  {
   "cell_type": "code",
   "execution_count": null,
   "metadata": {},
   "outputs": [],
   "source": [
    "fig, axes = plt.subplots(nrows=len(keys), ncols=1, figsize=(10, 8))\n",
    "for i, key in enumerate(keys):\n",
    "    # Collect data for the current key from all defaultdicts\n",
    "    dat = [d[key] for d in dicts]\n",
    "    # Flatten the list of lists and add a label for each defaultdict\n",
    "    data_flat = [item for sublist in dat for item in sublist]\n",
    "    labels = conditions\n",
    "    \n",
    "    # Create a boxplot\n",
    "    axes[i].boxplot(dat)\n",
    "    axes[i].set_title(f'Boxplot for {key}')\n",
    "    axes[i].set_xticklabels([conditions[j] for j in range(len(dicts))])\n",
    "\n",
    "# Set overall title and show plot\n",
    "fig.suptitle('Embodiment Pilot', fontsize=16)\n",
    "plt.tight_layout(rect=[0, 0, 1, 0.95])\n",
    "plt.show()"
   ]
  },
  {
   "cell_type": "code",
   "execution_count": null,
   "metadata": {},
   "outputs": [],
   "source": [
    "fig, axes = plt.subplots(nrows=len(keys), ncols=1, figsize=(10, 8))\n",
    "for i, key in enumerate(keys):\n",
    "    for j, d in enumerate(dicts):\n",
    "        axes[i].plot(d[key], label=conditions[j])\n",
    "    \n",
    "    axes[i].set_title(f'Values for {key}')\n",
    "    axes[i].legend()\n",
    "\n",
    "# Set overall title and show plot\n",
    "fig.suptitle('Test', fontsize=16)\n",
    "plt.tight_layout(rect=[0, 0, 1, 0.95])\n",
    "plt.show()"
   ]
  },
  {
   "cell_type": "code",
   "execution_count": null,
   "metadata": {},
   "outputs": [],
   "source": [
    "#histogram\n",
    "consolidated_data = {}\n",
    "for condition, dfs in data.items():\n",
    "    consolidated_data[condition] = pd.concat(dfs, ignore_index=True)\n",
    "    consolidated_data[condition][\"Condition\"] = condition\n",
    "consolidated_data\n",
    "\n",
    "df = pd.concat([consolidated_data[\"Large\"], consolidated_data[\"Small\"], consolidated_data[\"Normal\"], consolidated_data[\"NoAvatar\"]])\n",
    "# Plot histograms\n",
    "for q in questions:\n",
    "    plt.figure(figsize=(12, 8))\n",
    "    sns.histplot(df.loc[df[\"Question\"]==q], x= \"Value\", kde=False, stat= \"count\", discrete= True, label = condition, hue = \"Condition\" , multiple= \"dodge\", shrink= .8)\n",
    "    plt.title(f'{questions[q]}')\n",
    "    plt.xlabel('Answer')\n",
    "    plt.xticks(range(df['Value'].min(), df['Value'].max() + 1))\n",
    "    \n",
    "    plt.ylabel('Count')\n",
    "    plt.yticks(range(0, len(participants)))\n",
    "    plt.show()"
   ]
  },
  {
   "cell_type": "code",
   "execution_count": null,
   "metadata": {},
   "outputs": [],
   "source": [
    " #anova between all conditions \n",
    "stats.f_oneway( consolidated_data[\"NoAvatar\"][\"Value\"], consolidated_data[\"Normal\"][\"Value\"], consolidated_data[\"Small\"][\"Value\"], consolidated_data[\"Large\"][\"Value\"])\n",
    "# muss ich mich noch mal reinlesen was hier passend ist"
   ]
  },
  {
   "cell_type": "code",
   "execution_count": null,
   "metadata": {},
   "outputs": [],
   "source": [
    "stats.ttest_ind(consolidated_data[\"NoAvatar\"][\"Value\"], consolidated_data[\"Normal\"][\"Value\"])"
   ]
  },
  {
   "cell_type": "code",
   "execution_count": null,
   "metadata": {},
   "outputs": [],
   "source": [
    "consolidated_data[\"NoAvatar\"][\"Value\"]"
   ]
  },
  {
   "cell_type": "markdown",
   "metadata": {},
   "source": [
    "Presence questionaire"
   ]
  },
  {
   "cell_type": "code",
   "execution_count": null,
   "metadata": {},
   "outputs": [],
   "source": [
    "demographic_labels = [\"Gender\", \"Age\", \"Height\", \"Weight\"]\n",
    "vr_labels = [\"VR Experience\",\"VR Usage\",\"First Person Video Games\", \"Motion Sickness\"]"
   ]
  },
  {
   "cell_type": "code",
   "execution_count": null,
   "metadata": {},
   "outputs": [],
   "source": [
    "soci_data = pd.read_csv(\"C:/Users/LauflaborVR2/GS-MT_Test/data/data_vr_walking_with_avatars_2024-07-09_16-00.csv\")\n",
    "soci_data"
   ]
  },
  {
   "cell_type": "code",
   "execution_count": null,
   "metadata": {},
   "outputs": [],
   "source": [
    "demo_data = soci_data[demographic_labels]\n",
    "vr_data = soci_data[vr_labels]\n",
    "ipq_data = soci_data.drop(demographic_labels + vr_labels, axis= 1)\n"
   ]
  },
  {
   "cell_type": "code",
   "execution_count": null,
   "metadata": {},
   "outputs": [],
   "source": [
    "numeric_summary = demo_data.describe().loc[[\"mean\", \"std\"]]\n",
    "categorical_summary = demo_data.select_dtypes(include=['object']).apply(pd.Series.value_counts)\n",
    "display(numeric_summary)\n",
    "display(categorical_summary)\n",
    "ipq_per_question = ipq_data.describe().loc[[\"mean\", \"std\"]]\n",
    "display(ipq_per_question)\n",
    "\n",
    "\n"
   ]
  },
  {
   "cell_type": "code",
   "execution_count": null,
   "metadata": {},
   "outputs": [],
   "source": [
    "#remove the question with a reversed scale\n",
    "ipq11 = ipq_data.drop([\"Presence 4: How real did the virtual world seem to you?\", \"VPID\", \"Presence 6: How real did the virtual world seem to you?\",\"Presence 7: How aware were you of the real world surrounding while navigating in the virtual world? (i.e. sounds, room temperature, other people, etc.)?\" ], axis=1)\n",
    "display(ipq11.describe().loc[[\"mean\", \"std\"]].mean(axis=1))"
   ]
  }
 ],
 "metadata": {
  "kernelspec": {
   "display_name": "Python 3",
   "language": "python",
   "name": "python3"
  },
  "language_info": {
   "codemirror_mode": {
    "name": "ipython",
    "version": 3
   },
   "file_extension": ".py",
   "mimetype": "text/x-python",
   "name": "python",
   "nbconvert_exporter": "python",
   "pygments_lexer": "ipython3",
   "version": "3.11.9"
  }
 },
 "nbformat": 4,
 "nbformat_minor": 2
}
